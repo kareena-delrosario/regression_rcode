{
    "cells": [
        {
            "cell_type": "markdown",
            "metadata": {},
            "source": [
                "**The RMarkdown file can be downloaded here: http://github.com/kareena-delrosario/regression_rcode**\n",
                "\n",
                "Our introduction to R will be divided into 3 different subsections (orienting yourself to R, data manipulation, data visualization)\n",
                "\n",
                "    Overview of Section 1\n",
                "\n",
                "    1. Different R Platforms\n",
                "    2. R Grammar\n",
                "    3. Installing and Loading Libraries\n",
                "    4. Using Functions\n",
                "    5. Importing datasets\n",
                "\n",
                "# Level 1: Orienting yourself to R\n",
                "## Different R Platforms: R Script, R Markdown, and Colab\n",
                "\n",
                "#### R Script\n",
                "This is the basic format for RStudio. The output goes to the console. Plots output to the window in the righthand corner. '#' comments code. \n",
                "\n",
                "#### R Markdown\n",
                "Integrates R code with narrative text. Output and plots appear directly under the code. Can be \"knitted\" to output an easy-to-read Word, PDF, or HTML. Code is placed in separate blocks (shortcut: CMD + Option + i), which can be modified to skip the code or hide the code in the final output. Can create an outline using '#' outside of the code blocks.\n",
                "\n",
                "#### Google Colab\n",
                "Functions like a Google Doc. Multiple users can access it at a time and does not require R to be installed. \n",
                "\n",
                "## Understanding R Grammar\n"
            ]
        },
        {
            "cell_type": "code",
            "execution_count": null,
            "metadata": {},
            "outputs": [],
            "source": [
                "knitr::include_graphics('r_operators.png')\n",
                "\n"
            ]
        },
        {
            "cell_type": "markdown",
            "metadata": {},
            "source": [
                "\n",
                "### == vs %in% vs =\n"
            ]
        },
        {
            "cell_type": "code",
            "execution_count": null,
            "metadata": {},
            "outputs": [],
            "source": [
                "# these are vectors \n",
                "# (basically, strings of values. always need to add 'c' if there is more than 1 value)\n",
                "x <- c('a', 'b', 'c')\n",
                "y <- c('c', 'b', 'a')\n"
            ]
        },
        {
            "cell_type": "markdown",
            "metadata": {},
            "source": [
                "    - What's up with the <-?\n",
                "    If you want to refer to something you created in R, whether that is a dataframe, vector, or whatever, you HAVE to save it to the environment (to the right) using \"<-\"\n",
                "    \n",
                "#### ==\n"
            ]
        },
        {
            "cell_type": "code",
            "execution_count": null,
            "metadata": {},
            "outputs": [],
            "source": [
                "# logical operator: asks the program for a match\n",
                "x == y\n"
            ]
        },
        {
            "cell_type": "markdown",
            "metadata": {},
            "source": [
                "\n",
                "#### %in%\n"
            ]
        },
        {
            "cell_type": "code",
            "execution_count": null,
            "metadata": {},
            "outputs": [],
            "source": [
                "# value matching: contains same variables\n",
                "x %in% y\n",
                "x %in% letters\n"
            ]
        },
        {
            "cell_type": "markdown",
            "metadata": {},
            "source": [
                "\n",
                "#### =\n"
            ]
        },
        {
            "cell_type": "code",
            "execution_count": null,
            "metadata": {},
            "outputs": [],
            "source": [
                "# changes variables (new = old)\n",
                "x = y\n",
                "\n",
                "print(x)\n",
                "print(y)\n"
            ]
        },
        {
            "cell_type": "markdown",
            "metadata": {},
            "source": [
                "### () vs [] \n",
                "\n",
                "#### Parentheses ()\n"
            ]
        },
        {
            "cell_type": "code",
            "execution_count": null,
            "metadata": {},
            "outputs": [],
            "source": [
                "# parentheses are used for closing arguments\n",
                "result = sum(1, 2, 3)\n",
                "print(result)  # Outputs: 6\n"
            ]
        },
        {
            "cell_type": "markdown",
            "metadata": {},
            "source": [
                "\n",
                "#### Square brackets []\n"
            ]
        },
        {
            "cell_type": "code",
            "execution_count": null,
            "metadata": {},
            "outputs": [],
            "source": [
                "# square brackets are used to specify what you want in a vector or dataframe\n",
                "\n",
                "# for vectors\n",
                "v = c(10, 20, 30, 40)\n",
                "print(v[2])  # Accessing the second element, Outputs: 20\n"
            ]
        },
        {
            "cell_type": "markdown",
            "metadata": {},
            "source": "\n"
        },
        {
            "cell_type": "code",
            "execution_count": null,
            "metadata": {},
            "outputs": [],
            "source": [
                "# Working with matrices or dataframes\n",
                "m = matrix(1:9, nrow=3, ncol=3)\n",
                "print(m)\n"
            ]
        },
        {
            "cell_type": "markdown",
            "metadata": {},
            "source": [
                "\n",
                "[row, column]\n"
            ]
        },
        {
            "cell_type": "code",
            "execution_count": null,
            "metadata": {},
            "outputs": [],
            "source": [
                "print(m[2, 3])  # Accessing row 2, column 3\n",
                "\n"
            ]
        },
        {
            "cell_type": "markdown",
            "metadata": {},
            "source": "\n"
        },
        {
            "cell_type": "code",
            "execution_count": null,
            "metadata": {},
            "outputs": [],
            "source": [
                "print(m[, 1])   # Accessing all rows in column 1\n",
                "\n"
            ]
        },
        {
            "cell_type": "markdown",
            "metadata": {},
            "source": [
                "\n",
                "## Installing Packages\n"
            ]
        },
        {
            "cell_type": "code",
            "execution_count": null,
            "metadata": {},
            "outputs": [],
            "source": [
                "## Install Packages from CRAN\n",
                "install.packages(\"dplyr\")\n",
                "\n",
                "\n",
                "## Install Package from GitHub\n",
                "#install.packages(\"devtools\")\n",
                "library(devtools)\n",
                "\n",
                "#devtools::install_github(\"DeveloperName/PackageName\")\n",
                "devtools::install_github(\"RandiLGarcia/dyadr\")\n"
            ]
        },
        {
            "cell_type": "markdown",
            "metadata": {},
            "source": [
                "\n",
                "## Loading Packages\n"
            ]
        },
        {
            "cell_type": "code",
            "execution_count": null,
            "metadata": {},
            "outputs": [],
            "source": [
                "# Load Packages\n",
                "library(dplyr)\n",
                "\n",
                "# One Way to Load Multiple Packages\n",
                "pkgs <- c(\"psych\",\n",
                "          \"tidyr\",\n",
                "          \"tidyverse\",\n",
                "          \"dplyr\",\n",
                "          \"haven\",\n",
                "          \"lm.beta\",\n",
                "          \"car\",\n",
                "          \"skimr\",\n",
                "          \"janitor\", \n",
                "          \"labelled\", \n",
                "          \"expss\", \n",
                "          \"foreign\")\n",
                "\n",
                "lapply(pkgs, library, character.only = TRUE)\n"
            ]
        },
        {
            "cell_type": "markdown",
            "metadata": {},
            "source": [
                "    \n",
                "### Checking Packages\n"
            ]
        },
        {
            "cell_type": "code",
            "execution_count": null,
            "metadata": {},
            "outputs": [],
            "source": [
                "search()\n",
                "\n"
            ]
        },
        {
            "cell_type": "markdown",
            "metadata": {},
            "source": [
                "## Using Functions\n",
                "\n",
                "In R, there are lots of ways you can do the same thing. One example is how to call a dataframe and the variables within it. We can either enter the dataframe name into each command or we can use dplyr's pipe (this may depend on the package). \n"
            ]
        },
        {
            "cell_type": "code",
            "execution_count": null,
            "metadata": {},
            "outputs": [],
            "source": [
                "knitr::include_graphics('pipe.png')\n",
                "\n"
            ]
        },
        {
            "cell_type": "markdown",
            "metadata": {},
            "source": [
                "Here's an example using R's built in dataframe called 'iris': \n",
                "\n"
            ]
        },
        {
            "cell_type": "code",
            "execution_count": null,
            "metadata": {},
            "outputs": [],
            "source": [
                "head(iris)\n",
                "\n"
            ]
        },
        {
            "cell_type": "markdown",
            "metadata": {},
            "source": [
                "In this exercise, we want to get the average Sepal.Length and Sepal.Width of the setosa species.\n",
                "\n",
                "### Step-by-step approach\n",
                "\n",
                "    df$variable (specify dataframe and variable within the dataframe)\n"
            ]
        },
        {
            "cell_type": "code",
            "execution_count": null,
            "metadata": {},
            "outputs": [],
            "source": [
                "# Call variable \n",
                "iris$Species \n"
            ]
        },
        {
            "cell_type": "markdown",
            "metadata": {},
            "source": "\n"
        },
        {
            "cell_type": "code",
            "execution_count": null,
            "metadata": {},
            "outputs": [],
            "source": [
                "# Filtering the data for species 'setosa'\n",
                "filtered_data <- subset(iris, Species == \"setosa\")\n",
                "\n",
                "# Selecting specific columns\n",
                "selected_data <- filtered_data[,c(\"Sepal.Length\", \"Sepal.Width\", \"Species\")]\n",
                "\n",
                "# Grouping the data ('data of interest' ~grouped_by 'Species', the data, function)\n",
                "final_result1 <- aggregate(cbind(Sepal.Length, Sepal.Width) ~ Species, selected_data, mean)\n",
                "\n",
                "print(final_result1)\n"
            ]
        },
        {
            "cell_type": "markdown",
            "metadata": {},
            "source": [
                "### Dplyr approach\n",
                "\n",
                "    %>% (pipe data into functions; shortcut = CMD + Shift + M)\n"
            ]
        },
        {
            "cell_type": "code",
            "execution_count": null,
            "metadata": {},
            "outputs": [],
            "source": [
                "library(dplyr)\n",
                "\n",
                "final_result2 <- iris %>%\n",
                "  filter(Species == \"setosa\") %>% # Filtering the data for species 'setosa'\n",
                "  select(Sepal.Length, Sepal.Width, Species) %>% # Selecting specific columns\n",
                "  group_by(Species) %>% # not necessary but guarantees it's kept in output\n",
                "  dplyr::summarize(average_sepal_length = mean(Sepal.Length),\n",
                "                   average_sepal_width = mean(Sepal.Width)) \n",
                "\n",
                "print(final_result2)\n"
            ]
        },
        {
            "cell_type": "markdown",
            "metadata": {},
            "source": [
                "\n",
                "### Calling functions\n"
            ]
        },
        {
            "cell_type": "code",
            "execution_count": null,
            "metadata": {},
            "outputs": [],
            "source": [
                "?mean\n",
                "?dplyr::mutate\n"
            ]
        },
        {
            "cell_type": "markdown",
            "metadata": {},
            "source": [
                "### Mini-challenge!\n",
                "\n",
                "Let's revisit () and [] using the vectors we created earlier:\n"
            ]
        },
        {
            "cell_type": "code",
            "execution_count": null,
            "metadata": {},
            "outputs": [],
            "source": [
                "data <- data.frame(x, y)\n",
                "as_tibble(data)\n"
            ]
        },
        {
            "cell_type": "markdown",
            "metadata": {},
            "source": "\n"
        },
        {
            "cell_type": "code",
            "execution_count": null,
            "metadata": {},
            "outputs": [],
            "source": [
                "new_data <- data [,2] # how would you subset COLUMN 2? \n",
                "as_tibble(new_data)\n"
            ]
        },
        {
            "cell_type": "markdown",
            "metadata": {},
            "source": "\n"
        },
        {
            "cell_type": "code",
            "execution_count": null,
            "metadata": {},
            "outputs": [],
            "source": [
                "new_data2 <- data[2,] # how would you subset ROW 2? \n",
                "as_tibble(new_data2)\n"
            ]
        },
        {
            "cell_type": "markdown",
            "metadata": {},
            "source": [
                "\n",
                "## Importing Datasets\n"
            ]
        },
        {
            "cell_type": "code",
            "execution_count": null,
            "metadata": {},
            "outputs": [],
            "source": [
                "## CSV\n",
                "# Saved in the same folder\n",
                "basic_df <- read.csv(\"depression_example_data.csv\", stringsAsFactors = FALSE) # character strings will not be converted to factors\n",
                "tibble_df <- read_csv(\"depression_example_data.csv\") # reads as tibble\n",
                "\n",
                "# Saved in different places\n",
                "# Option 1 - Set working directory\n",
                "getwd()\n",
                "setwd(\"/Users/kareenadelrosario/Desktop/Local R Code/NewFolder\")\n",
                "read_csv(\"csvFileName.csv\")\n",
                "\n",
                "# Option 2 - Include file path\n",
                "read_csv(\"/Users/kareenadelrosario/Desktop/Local R Code/NewFolder/csvFileName.csv\")\n",
                "\n",
                "# Option 3 - Choose file\n",
                "read.csv(file.choose(), header = TRUE)\n",
                "\n",
                "read_sav(file.choose()) # SPSS\n",
                "read_sas(file.choose()) # SAS\n",
                "\n",
                "# Option 4 - Use Menu\n",
                "# file -> Import Dataset\n"
            ]
        },
        {
            "cell_type": "markdown",
            "metadata": {},
            "source": "## Exporting Datasets\n"
        },
        {
            "cell_type": "code",
            "execution_count": null,
            "metadata": {},
            "outputs": [],
            "source": [
                "# base r\n",
                "write.csv(data, \"pathway\")\n",
                "\n",
                "# readr package has more export options and is slightly faster\n",
                "write_csv(data, \"pathway\", na =\"\")\n",
                "\n",
                "# haven packages allow you to export data as an SPSS or SAS file\n",
                "write_sav()\n",
                "write_sas()\n"
            ]
        },
        {
            "cell_type": "markdown",
            "metadata": {},
            "source": [
                "\n",
                "### BONUS: Want to upload your R script to Colab? Make it a python file using the code below:\n"
            ]
        },
        {
            "cell_type": "code",
            "execution_count": null,
            "metadata": {},
            "outputs": [],
            "source": [
                "# devtools::install_github(\"mkearney/rmd2jupyter\")\n",
                "library(rmd2jupyter)\n",
                "rmd2jupyter(\"lab1_datamanivis_kdr.Rmd\")\n"
            ]
        },
        {
            "cell_type": "markdown",
            "metadata": {},
            "source": "\n"
        }
    ],
    "metadata": {
        "anaconda-cloud": "",
        "kernelspec": {
            "display_name": "R",
            "langauge": "R",
            "name": "ir"
        },
        "language_info": {
            "codemirror_mode": "r",
            "file_extension": ".r",
            "mimetype": "text/x-r-source",
            "name": "R",
            "pygments_lexer": "r",
            "version": "3.4.1"
        }
    },
    "nbformat": 4,
    "nbformat_minor": 1
}
